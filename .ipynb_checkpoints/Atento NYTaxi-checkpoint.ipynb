{
 "cells": [
  {
   "cell_type": "code",
   "execution_count": null,
   "id": "88a540d1",
   "metadata": {},
   "outputs": [],
   "source": [
    "import json\n",
    "import sqlite3\n",
    "import pandas as pd\n",
    "import numpy as np\n",
    "import seaborn as sns\n",
    "import matplotlib as mat\n",
    "import matplotlib.pyplot as plt\n",
    "import colorsys\n",
    "plt.style.use('seaborn-talk')\n",
    "import warnings\n",
    "warnings.filterwarnings(\"ignore\")\n",
    "%matplotlib inline\n",
    "import datetime"
   ]
  },
  {
   "cell_type": "code",
   "execution_count": null,
   "id": "a21cf8ba",
   "metadata": {
    "scrolled": true
   },
   "outputs": [],
   "source": [
    "df = pd.read_json('atento0.json', orient='records', nrows=4000000, lines=True)\n",
    "df  "
   ]
  },
  {
   "cell_type": "code",
   "execution_count": null,
   "id": "cd730cf5",
   "metadata": {
    "scrolled": true
   },
   "outputs": [],
   "source": [
    "# Questão 1. RESULTADO\n",
    "# A distância média percorrida por viagens com no máximo 2 passageiros é:\n",
    "df.loc[df['passenger_count'] == 2, 'trip_distance'].mean()"
   ]
  },
  {
   "cell_type": "code",
   "execution_count": null,
   "id": "26f0e329",
   "metadata": {},
   "outputs": [],
   "source": [
    "# Questão 2.Verificar quantos vendors diferentes existem \n",
    "print(df.groupby('vendor_id').size())"
   ]
  },
  {
   "cell_type": "code",
   "execution_count": null,
   "id": "6e64820a",
   "metadata": {
    "scrolled": false
   },
   "outputs": [],
   "source": [
    "# Questão 2. Utilizar o método groupby() em múltiplas colunas, o count faz a contagem de linhas, ou seja, só do vendor (tipo texto/string), \n",
    "# já o sum faria a contagem do número decimal, ou seja, só do 'total_amount'\n",
    "print(df.groupby('vendor_id')['total_amount'].count())"
   ]
  },
  {
   "cell_type": "code",
   "execution_count": null,
   "id": "4a124ede",
   "metadata": {},
   "outputs": [],
   "source": [
    "# Questão 2. RESULTADO\n",
    "# Os 3 maiores vendors (CMT/ DDS/ VTS/ TS) em quantidade total de dinheiro arrecadado (total_amount) são:\n",
    "print(df.groupby('vendor_id')['total_amount'].sum())"
   ]
  },
  {
   "cell_type": "code",
   "execution_count": null,
   "id": "ebaf6513",
   "metadata": {},
   "outputs": [],
   "source": [
    "# Questão 3. Verificar quantos tipos de pagamentos diferentes existem \n",
    "print(df.groupby('payment_type').size())"
   ]
  },
  {
   "cell_type": "code",
   "execution_count": null,
   "id": "90963632",
   "metadata": {},
   "outputs": [],
   "source": [
    "# Questão 3. Padronizar os tipos de pagamento em letras Minúsculas e verificar novamente os tipo de pagamento\n",
    "print(df.groupby(df['payment_type'].str.lower()).size())"
   ]
  },
  {
   "cell_type": "code",
   "execution_count": null,
   "id": "20221225",
   "metadata": {},
   "outputs": [],
   "source": [
    "# Questão 3. Criar coluna de Dia, Mês e Ano\n",
    "df['day'] = df.dropoff_datetime.str.slice(8,10)\n",
    "df['month'] = df.dropoff_datetime.str.slice(5,7)\n",
    "df['year'] = df.dropoff_datetime.str.slice(0,4)\n",
    "df"
   ]
  },
  {
   "cell_type": "code",
   "execution_count": null,
   "id": "7f68772e",
   "metadata": {},
   "outputs": [],
   "source": [
    "# Questão 3. Criar coluna limpa de Tipo de pagamento\n",
    "df['pagamento'] = df['payment_type'].str.lower()\n",
    "df"
   ]
  },
  {
   "cell_type": "code",
   "execution_count": null,
   "id": "dcbdffff",
   "metadata": {},
   "outputs": [],
   "source": [
    "# Questão 3. Criar coluna Data e Datafull\n",
    "df['data'] = df['month'].str.cat(df['year'],sep=\".\")\n",
    "df['datafull'] = df['day'].str.cat(df['data'],sep=\".\")\n",
    "df"
   ]
  },
  {
   "cell_type": "code",
   "execution_count": null,
   "id": "fdd4182e",
   "metadata": {},
   "outputs": [],
   "source": [
    "# Questão 3. Mudar tipo da coluna Data e Datafull\n",
    "df[\"datafull\"] = df[\"datafull\"].astype('datetime64[ns]')\n",
    "df[\"data\"] = df[\"data\"].astype('float')\n",
    "df"
   ]
  },
  {
   "cell_type": "code",
   "execution_count": null,
   "id": "e63335e3",
   "metadata": {},
   "outputs": [],
   "source": [
    "# Questão 3. Criar Dataframe selecionado por linhas com tipo de pagamento ‘cash’\n",
    "df.set_index(\"pagamento\",\n",
    "            inplace = True)\n",
    "# Selecionando linhas com tipo de pagamento ‘cash’\n",
    "df1 = df.loc[[\"cash\"]]\n",
    "df1"
   ]
  },
  {
   "cell_type": "code",
   "execution_count": null,
   "id": "d2ccbf7b",
   "metadata": {},
   "outputs": [],
   "source": [
    "# Questão 3. Criando um DataFrame object de uma lista\n",
    "df3 = pd.DataFrame(df1,\n",
    "                columns =['data'])\n",
    "df3"
   ]
  },
  {
   "cell_type": "code",
   "execution_count": null,
   "id": "f0ccec0c",
   "metadata": {},
   "outputs": [],
   "source": [
    "# Questão 3. RESULTADO 1\n",
    "df3.data.hist(bins = 12)\n",
    "plt.xlabel(\"Meses\")\n",
    "plt.ylabel(\"Frequência de passageiros\")\n",
    "plt.title(\"Distribuição de corridas pagas em dinheiro\")\n",
    "plt.show()"
   ]
  },
  {
   "cell_type": "code",
   "execution_count": null,
   "id": "11149252",
   "metadata": {},
   "outputs": [],
   "source": [
    "# Questão 3. RESULTADO 2\n",
    "sns.distplot(df3['data'],kde=False,bins=12)\n",
    "plt.xlabel(\"Meses\")\n",
    "plt.ylabel(\"Frequência de passageiros\")\n",
    "plt.title(\"Distribuição de corridas pagas em dinheiro\")\n",
    "plt.show()"
   ]
  },
  {
   "cell_type": "code",
   "execution_count": null,
   "id": "d048ed92",
   "metadata": {},
   "outputs": [],
   "source": []
  }
 ],
 "metadata": {
  "kernelspec": {
   "display_name": "Python 3 (ipykernel)",
   "language": "python",
   "name": "python3"
  },
  "language_info": {
   "codemirror_mode": {
    "name": "ipython",
    "version": 3
   },
   "file_extension": ".py",
   "mimetype": "text/x-python",
   "name": "python",
   "nbconvert_exporter": "python",
   "pygments_lexer": "ipython3",
   "version": "3.9.12"
  }
 },
 "nbformat": 4,
 "nbformat_minor": 5
}
